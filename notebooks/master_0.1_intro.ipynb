{
 "cells": [
  {
   "cell_type": "markdown",
   "metadata": {},
   "source": [
    "## Overview"
   ]
  },
  {
   "cell_type": "markdown",
   "metadata": {},
   "source": [
    "Welcome to ASR! The following exercise is designed to offer new team members a chance to get immediately to work on an open data set while awaiting the security clearance necessary to engage in projects relating to restricted data.  \n",
    "\n",
    "The primary goal is to get you working with the tools you will be using once your clearance comes through so you can then hit the ground running. This will also serve as your first opportunity to begin to develop your technical skills within the firm, in the context of its work, and with its resources at your disposal.\n",
    "\n",
    "Throughout this course, you will work with analysts to build a mini full-stack microservice web application that surfaces the results of their EDA and modeling. This mirrors the process that you'll encounter as a developer supporting projects within the IRS.\n",
    "\n",
    "Let's get started!"
   ]
  },
  {
   "cell_type": "markdown",
   "metadata": {},
   "source": [
    "### Objectives\n",
    "\n",
    "The main objectives of these exercises will be to experience collaborating with data analysts, gain an appreciation of basic data science concepts/methodology, practice each stage of building and deploying a full-stack web application, and become familiar with the languages, tools, frameworks, and libraries you'll use once you receive your public trust clearance. As with all work, this also serves as an opportunity for the firm to expand its codebase.\n",
    "\n",
    "The stages of this developer training correspond to the following project deliverables:\n",
    "\n",
    "1. Business Understanding: Summary of Business Situation and role of project within it.\n",
    "2. Wireframing: A wireframe of the web application to be built.\n",
    "3. Developing: A basic front-end that can communicate with a server-side back-end.\n",
    "4. Deploying: A completed and deployed web application."
   ]
  },
  {
   "cell_type": "markdown",
   "metadata": {},
   "source": [
    "### Training Notebooks\n",
    "\n",
    "As mentioned above, this training program is organized into several Jupyter notebooks; the developer series takes the form \"{Your initials}_X.1_{Notebook title}\" (e.g. 0.1, 1.1, 2.1, ...). These notebooks are designed to be **guidelines** to walk you through each stage of building your app. They can provide hints and tips if you are uncertain of the steps usually associated with each process. If you are more familiar with web development, you'll have to option to complete additional objectives. If you feel that a step in a notebook will fit better later on, or if you wish to jump ahead and do something that isn't mentioned until much later because you are comforable with your process, feel free to do so."
   ]
  },
  {
   "cell_type": "markdown",
   "metadata": {},
   "source": [
    "### Technologies\n",
    "\n",
    "**Front-end**: Any front-end framework that you're comfortable with. React.js (bootstrapped with *create-react-app*) is highly encouraged, as it is popular at the IRS. But, if you've never used it before, you likely won't have enough time during this course to learn it to the degree necessary to build a full web front-end.\n",
    "\n",
    "**Back-end**: Any Python web framework that you're comfortable with. If you haven't done any web development in Python, I suggest starting with Flask. Our server-side app will be simple, so Flask is a convenient choice.\n",
    "\n",
    "**Wireframing Tool**: Entirely open-ended. If you don't have a favorite, I suggest Figma.\n",
    "\n",
    "**Database**: Deploying a local database will be an optional objective. If you do it, you'll need to decide on something relational, like Postgres or SQLite.\n",
    "\n",
    "**Web Server**, **Identity Management**, **Container Orchestration**: Deploying these services will be optional objectives. We'll cover configuring an NGINX web server for proxying and HTTPS, managing user accounts and authentication with Keycloak, and orchestrating the deployment of your app with Docker Compose."
   ]
  },
  {
   "cell_type": "markdown",
   "metadata": {},
   "source": [
    "### Checkpoints\n",
    "\n",
    "Upon completing each checkpoint (notebook), you will push your project and any associated deliverables to Gitlab. Your lead will organize a review session in person or over Teams. During these sessions, each trainee will walk through their code and explain the steps they have taken, so be prepared to explain everything you have done."
   ]
  },
  {
   "cell_type": "markdown",
   "metadata": {},
   "source": [
    "### Functions\n",
    "\n",
    "You may notice that some notebooks load custom functions from the '../src/' folder. These are a compilation of functions that have been written by other ASR employees to the make machine learning and model training processes easier. As you write your own code, we encourage you to functionalize any pieces that you think would be useful for other people (or for yourself) in the future. If you are not familiar with defining functions, this is a great place to practice it!\n",
    "\n",
    "Between checkpoints, you will have the opportunity to add to the ASR code base for each notebook. If you have a function that you think would be useful for data preparation, edit '../src/data_preparation.py' and add your function to the bottom. Then push the file to Gitlab. \n",
    "\n",
    "Since multiple people will be working on these functions simultaneously, you may encounter a merge conflict. This is all part of the process and is great practice for your future at ASR. If you're unfamiliar with the term, read more about merge conflicts [here](https://www.atlassian.com/git/tutorials/using-branches/merge-conflicts)."
   ]
  },
  {
   "cell_type": "markdown",
   "metadata": {},
   "source": [
    "## Documentation"
   ]
  },
  {
   "cell_type": "markdown",
   "metadata": {},
   "source": [
    "Documentation is a key step in all of the work that ASR does. Thoroughly commenting code, documenting decisions you made and why, etc., enables others to benefit from and to build on your work and vice versa. This will be important in helping your peers understand your code, and in providing you with notes as you explain your process during each checkpoint."
   ]
  }
 ],
 "metadata": {
  "kernelspec": {
   "display_name": "Python 3",
   "language": "python",
   "name": "python3"
  },
  "language_info": {
   "codemirror_mode": {
    "name": "ipython",
    "version": 3
   },
   "file_extension": ".py",
   "mimetype": "text/x-python",
   "name": "python",
   "nbconvert_exporter": "python",
   "pygments_lexer": "ipython3",
   "version": "3.7.4"
  }
 },
 "nbformat": 4,
 "nbformat_minor": 4
}
