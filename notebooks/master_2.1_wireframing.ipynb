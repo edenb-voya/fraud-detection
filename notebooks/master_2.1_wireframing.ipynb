{
 "cells": [
  {
   "cell_type": "markdown",
   "metadata": {},
   "source": [
    "# Wireframing\n",
    "\n",
    "Throughout this course, we’ll be building some part of a data dashboard which reflects the work of analysts studying fraudulent credit card transactions. In this module, you’ll begin thinking about the design, layout, and functionality of your front-end and prototyping your ideas using a wireframing tool.\n",
    "\n",
    "By the next module, the analysts will have studied the data well enough to give specific recommendations about what kind of visualizations to display and what features of the data to include. But before that, we can already brainstorm ideas about how to allow users to interact with a *general* dataset and ML model. We’ll then collaborate with the rest of the group to flesh out our ideas with the specifics of their analysis."
   ]
  },
  {
   "cell_type": "markdown",
   "metadata": {},
   "source": [
    "## Data Dashboards\n",
    "\n",
    "The primary function of any data dashboard is to give **summary statistics** about a dataset and interesting **aggregations** of the data--often allowing the user to arbitrarily group and filter the data, then presenting the result through dynamic visualizations/tables. In our case, we’ll also include the option of building an **ML model module** or a **profile generator**.\n",
    "\n",
    "Sadly, for the sake of time, we can't build an entire beautiful dashboard, so start by choosing and wireframing one of these modules (roughly presented in increasing difficulty):\n",
    "\n",
    "\n",
    "1.\t**High-level summary statistics** about the data **[1][2]**. In our case, consider giving metrics that say something about\n",
    "\n",
    "    a.\tthe size of the problem (dollars lost to fraudulent transactions, proportion of population affected)\n",
    "\n",
    "    b.\tthe scope of the dataset (the range of time that this data covers, the geographic areas involved)\n",
    "\n",
    "    c.\tmodel statistics (What proportion of transactions would this model have protected against fraud? How many people affected? Total dollars?)\n",
    "    \n",
    "<br />\n",
    "\n",
    "<p align=\"center\">\n",
    "<img style=\"max-width: 1200px; width: 100%\"  src=\"../images/2.0_fig1.png\">\n",
    "</p>\n",
    "<p align=\"center\" style=\"margin: 10px 0 30px 0\"><b>Fig 1.</b> Summary statistics and data aggregations</p>\n",
    "<p align=\"center\">\n",
    "<img style=\"max-width: 1200px; width: 100%\" src=\"../images/2.0_fig2.png\">\n",
    "</p>\n",
    "<p align=\"center\" style=\"margin: 10px 0 30px 0\"><b>Fig 2.</b> ML model performance metrics</p>\n",
    "\n",
    "<br />\n",
    "\n",
    "2.\t**Interesting aggregations** -- Some way to interact with the dataset through the use of dynamic visualizations, arbitrary aggregations(breakdowns)/filtering **[3]**, tables **[4]**, etc. These should highlight important features in the data. For example:\n",
    "  \n",
    "    a.\tA fraud rate breakdown between different card providers (Visa, Mastercard, Discovery …), card type (credit or debit), geographic distance, etc… These are all different aggregations by a feature in the data. We’ll discover during EDA exactly which features are important or interesting.\n",
    "    \n",
    "    b.\tA view of fraud rate over time—time since last transaction, cyclical data like transaction/fraud rate over a year.\n",
    "\n",
    "<p align=\"center\">\n",
    "<img style=\"max-width: 1200px; width: 100%\"  src=\"../images/2.0_fig3.png\">\n",
    "</p>\n",
    "<p align=\"center\" style=\"margin: 10px 0 30px 0\"><b>Fig 3.</b> User filtering and dynamic visualizations</p>\n",
    "<p align=\"center\">\n",
    "<img style=\"max-width: 1200px; width: 100%\"  src=\"../images/2.0_fig4.png\">\n",
    "</p>\n",
    "<p align=\"center\" style=\"margin: 10px 0 30px 0\"><b>Fig 4.</b> Data table for arbitrary filtering/sorting</p>\n",
    "<br />\n",
    "\n",
    "3.\tA module to let the user interact with an **ML model** **[5]**; let the user input sample values or tune the model's training. Report model performance metrics.\n",
    "\n",
    "<p align=\"center\">\n",
    "<img style=\"max-width: 1200px; width: 100%\"  src=\"../images/2.0_fig5.png\">\n",
    "</p>\n",
    "<p align=\"center\" style=\"margin: 10px 0 30px 0\"><b>Fig 5.</b> Front-end that interacts with ML model</p>\n",
    "<br />\n",
    "\n",
    "4.\tA **dynamically generated profile** on individual entities in the data **[6]**; along with the ability to look up specific entities. For example, we could ask the analysts to engineer the data so that we can build profiles of the individual people present in the data, or of individual credit cards present in the data, or of individual transactions present in the data.\n",
    "\n",
    "<p align=\"center\">\n",
    "<img style=\"max-width: 1200px; width: 100%\"  src=\"../images/2.0_fig6.png\">\n",
    "</p>\n",
    "<p align=\"center\" style=\"margin: 10px 0 0 0\"><b>Fig 6.</b> Dynamic profile generation for entities in the dataset</p>\n"
   ]
  },
  {
   "cell_type": "markdown",
   "metadata": {},
   "source": [
    "## Tips\n",
    "\n",
    "Be sure to start with a really good understanding of the kaggle problem and the dataset. After that, ideas for presenting the problem and the data will come to you naturally.\n",
    "\n",
    "Don't worry about the specifics too much. The goal of this is to get comfortable using a wireframing tool and to just present something general to the analysts that they can respond to with ideas from their EDA. Reach out to the dev mentor anytime if you need help coming up with ideas.\n",
    "\n",
    "This wireframe will serve as a useful guide when doing front-end development; but your final product will likely look very different because of decisions you make while coding. In our work, you're the graphic designer, the front-end developer, and the maintainer--so don't be afraid to get creative!"
   ]
  }
 ],
 "metadata": {
  "kernelspec": {
   "display_name": "Python 3",
   "language": "python",
   "name": "python3"
  },
  "language_info": {
   "codemirror_mode": {
    "name": "ipython",
    "version": 3
   },
   "file_extension": ".py",
   "mimetype": "text/x-python",
   "name": "python",
   "nbconvert_exporter": "python",
   "pygments_lexer": "ipython3",
   "version": "3.7.4"
  }
 },
 "nbformat": 4,
 "nbformat_minor": 4
}
