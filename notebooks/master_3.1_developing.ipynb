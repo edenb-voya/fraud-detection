{
 "cells": [
  {
   "cell_type": "markdown",
   "metadata": {},
   "source": [
    "<style>\n",
    "* {\n",
    "  font-size: 1.05em;\n",
    "  line-height: 2em;\n",
    "}\n",
    "blockquote {\n",
    "  line-height: 1em !important;\n",
    "}\n",
    "</style>\n",
    "\n",
    "<div style=\"max-width: 1000px; margin: 0 auto;\">\n",
    "\n",
    "<h1>Developing</h1>\n",
    "\n",
    "In this module, you’ll have two weeks to get feedback for your wireframe, build a basic front-end, and add a simple back-end with an endpoint to serve it data.\n"
   ]
  },
  {
   "cell_type": "markdown",
   "metadata": {},
   "source": [
    "\n",
    "&nbsp;&nbsp;&nbsp;&nbsp;&nbsp;&nbsp;First, you'll need to more or less finalize your wireframe by getting feedback from other analysts. By now, analysts have become familiar with the data and are starting their exploratory data analysis. The statistics and visualizations they create at this stage are designed to understand the dataset broadly as well as highlight important features through different aggregations--i.e. **exactly** what you want to communicate in your *summary statistics* and *data aggregations* modules. Furthermore, the analysts you work with may eventually need to supply you with the data you'll use for your final product. So incorporating some of their EDA into your design will let you use their already-processed data.\n",
    "\n",
    "&nbsp;&nbsp;&nbsp;&nbsp;&nbsp;&nbsp;Your email should briefly describe the intended purpose and motivation of each part of your wireframe then ask questions that are as specific as possible. Here's my *summary statistics* module:\n",
    "\n",
    "\n",
    "\n",
    "<p style=\"text-align: center\">\n",
    "<img style=\"max-width: 800px\"  src=\"../images/3.1_fig1.png\">\n",
    "</p>\n",
    "<p style=\"margin: 10px 0 30px 0; text-align: center\"><b>Fig 1.</b> Summary statistics wireframe</p>\n",
    "\n",
    "\n",
    "<blockquote>\n",
    "<span style=\"font-size: 0.9em;\">\n",
    "\n",
    "I wanted my site to read like an interactive slideshow. This part of the dashboard was designed to give high level information about the size/scope of the dataset, as well as summarizing statistics about fraudulent transactions. To make the numbers easier to grasp, I started with aggregating by day, then giving *fraud rate* and the averages of *transaction count* and *transaction value* on a daily basis. I wasn't sure what else to include.\n",
    "\n",
    "</span>\n",
    "\n",
    "<span style=\"font-size: 0.9em;\">\n",
    "\n",
    "In your opinion, is this a good way of breaking down and presenting the data? Are there any other summarizing statistics you think would make sense to show here? Thoughts on the UI and layout?\n",
    "\n",
    "</span>\n",
    "</blockquote>\n",
    "\n",
    "Even while you're finalizing your wireframe, there's still more to do.\n"
   ]
  },
  {
   "cell_type": "markdown",
   "metadata": {},
   "source": [
    "\n",
    "<h2>Front-end</h2>\n",
    "\n",
    "&nbsp;&nbsp;&nbsp;&nbsp;&nbsp;&nbsp;Finally, we get to start building. I'm going to use *create-react-app* to start. I recommend first building most of the underlying UI structure. For me, this will include setting up React Router, maybe adding some boilerplate Redux, and setting up a responsive CSS layout. Using *npx create-react-app* also starts you out with a really convenient Webpack dev server with hot-reloading and [configurable api proxying](https://create-react-app.dev/docs/proxying-api-requests-in-development/) which is convienent for our microservices architecture.\n",
    "\n",
    "With this architecture, our back-end app will only be concerned with retrieving data. We'll \"compile\" our front-end into production-ready, minified static assets with *npm run build* and then just serve that out of a standalone web server (*nginx*, in our case). These are two separate microservices. Our web server will be configured with the same api reverse proxying as our create-react-app dev server--so regular http requests return our front-end, and specific http requests return our backend endpoints (e.g. `http://${DOMAIN}/api/my-endpoint`).\n",
    "\n",
    "<br>\n",
    "\n",
    "&nbsp;&nbsp;&nbsp;&nbsp;&nbsp;&nbsp;I'm also going to start working on my charts. I'm using the React wrapper library for *Chart.js*. If you haven't used a plotting library like this before, you'll need to spend some time with the configuration and learning how to read their documentation. It's often the case for libraries like this that the structure of the documentation itself matches the JSON config's structure--you'll see what I mean when you start using it. At this stage, you should hard-code the dummy data needed for the charts into your UI; and no need to spend too much time on this just yet, the feedback you get from the analysts will affect what charts/data you need.\n",
    "\n",
    "<br>\n",
    "\n",
    "<h3>Tools</h3>\n",
    "\n",
    "If you take anything away from this course, I hope it's this: ESLint with Prettier will automatically detect style and syntax best practices, accessibility concerns, common mistakes, performance issues, and quietly check static typing. Using this linter and respecting all of its rules will transform you into a better developer over time. Where else can you get professionally-endorsed line-by-line criticism of your code as you type? The rules it detects are defined by a config file; reach out to a mentor if you'd like help adding it to your project. Also, if you're using it with VSCode, this keybinding will change your life forever: *{\"key\": \"alt+a\", \"command\": \"eslint.executeAutofix\"}*\n",
    "\n",
    "If you already have experience with *create-react-app* and want to take your front-end to the next level, I recommend learning TypeScript. It was annoying at first, but adding TypeScript to my project was as much a breakthrough as adding ESLint. Finally, as for unit-testing, I don't worry about it because I'm lazy and undisciplined. Plus I figure TypeScript + ESLint is good enough. However, if you want to practice adding front-end unit tests, try Jest (or ts-jest).\n"
   ]
  },
  {
   "cell_type": "markdown",
   "metadata": {},
   "source": [
    "\n",
    "<h2>Back-end</h2>\n",
    "\n",
    "&nbsp;&nbsp;&nbsp;&nbsp;&nbsp;&nbsp;Once you've (more-or-less) finalized the first two modules of your wireframe, you can start the back-end. For now, our back-end is just going to serve the data needed to populate our stats/visualizations. In whatever Python web framework you've chosen, set up a simple HTTP GET endpoint and return a status 200 code plus a JSON array of your data. Make a judgement call here, if you're serving lots of data to your dashboard, break up the endpoints in ways that make sense (e.g. One for *summary statistics*, one for *data aggregations*). In my case, I'm not sending a lot of data, so I'll stick to one endpoint and break up the JSON that I serve into logical parts.\n",
    "\n",
    "Serve this backend at the location defined in your proxy config. In this case, I'll serve my development front-end *somewhere* (probably `http://localhost:3000`) and my development back-end at `http://localhost:5000`.\n",
    "\n",
    "<p style=\"text-align: center\">\n",
    "<img style=\"max-width: 800px\"  src=\"../images/3.1_fig2.png\">\n",
    "</p>\n",
    "<p style=\"margin: 10px 0 30px 0; text-align: center\"><b>Fig 2.</b> <i>package.json</i> proxy config</p>\n",
    "\n",
    "My **development** front-end should point to `http://localhost:5000` for api requests; my **production** front-end should point to the server that backend is hosted on. If the production front-end web server (*nginx*) and the production backend microservice are hosted on the same server, then your domain won't change and you can just use something like `fetch(\"/api/my-endpoint\")`. If they're hosted on different servers, you'll need to distinguish dev from prod by referencing `process.env.NODE_ENV` on your front-end.\n"
   ]
  },
  {
   "cell_type": "markdown",
   "metadata": {},
   "source": [
    "<h2>Database</h2>\n",
    "\n",
    "You'll still be using dummy data at this stage, but you'll want to now retrieve it from a database. If you'd like to deploy your own database and populate it with your dummy data feel free! We do this often at the IRS by running a docker image--reach out to a mentor to learn more.\n",
    "\n",
    "We also have our own kaggle training server running Postgres. Anything goes, just try to only push/pull/store a reasonable amount of data and preface your tables with your initials (e.g. jtw_fraud_transactions).\n",
    "\n",
    "    Address: 10.244.1.80:5432\n",
    "    Database: asr\n",
    "    User: asr\n",
    "    Pass: asr-kaggle-training\n"
   ]
  },
  {
   "cell_type": "markdown",
   "metadata": {},
   "source": [
    "\n",
    "<h5>Some other optional goals for fun:</h5>\n",
    "\n",
    "<br>\n",
    "\n",
    "<span style=\"font-size: 0.95em;\">\n",
    "\n",
    "1. **Deploy your own database with Docker and programatically populate it with your dummy data.** This will give you a chance to try out ETL, database management, and work with Docker, all of which you'll encounter at the IRS.\n",
    "2. **Cache the result of your SQL query.** This will improve performance and reliability. This way, your app will need to rely less on the operation of the production database, which you probably won't have control over, anyway.\n",
    "3. **Encode any environment variables used in a config file.** Things that will likely change between development and production are database connection info, schema, table names, behavior parameters, front-end CORS location, etc... We won't be deploying this app at the IRS but learning how to this is good practice.\n",
    "\n",
    "</span>"
   ]
  }
 ],
 "metadata": {
  "kernelspec": {
   "display_name": "Python 3",
   "language": "python",
   "name": "python3"
  },
  "language_info": {
   "codemirror_mode": {
    "name": "ipython",
    "version": 3
   },
   "file_extension": ".py",
   "mimetype": "text/x-python",
   "name": "python",
   "nbconvert_exporter": "python",
   "pygments_lexer": "ipython3",
   "version": "3.7.4"
  }
 },
 "nbformat": 4,
 "nbformat_minor": 4
}
