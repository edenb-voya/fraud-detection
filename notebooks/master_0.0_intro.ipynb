{
 "cells": [
  {
   "cell_type": "markdown",
   "metadata": {},
   "source": [
    "## Overview"
   ]
  },
  {
   "cell_type": "markdown",
   "metadata": {},
   "source": [
    "Welcome to ASR! The following exercise is designed to offer new team members a chance to get immediately to work on an open data set while awaiting the security clearance necessary to engage in projects relating to restricted data.  \n",
    "\n",
    "The primary goal is to get you working with the tools you will be using once your clearance comes through so you can then hit the ground running. This will also serve as your first opportunity to begin to develop your technical skills within the firm, in the context of its work, and with its resources at your disposal.\n",
    "\n",
    "This exercise intends to follow a typical data mining project path from aggregating disparate data through modeling and evaluation. ASR utiilizes the Cross Industry Standard Practice for Data Mining (CRISP-DM) model to plan its projects and you should use the model as a guide for the relevant corresponding stages of this exercise. A good resource may be found at the following link:\n",
    "\n",
    "https://github.com/patiegm/Datasci_Resources/blob/master/CRISP-DM%20Analysis%20Template.ipynb\n",
    "\n",
    "Let's get started!"
   ]
  },
  {
   "cell_type": "markdown",
   "metadata": {},
   "source": [
    "## Objectives"
   ]
  },
  {
   "cell_type": "markdown",
   "metadata": {},
   "source": [
    "The main objective of this exercise is to get you working with similar data, identical tools, and within the framework that you will be using once you receive your public trust clearance. You will also have ample opportunity to expand your knowledge of Python and relevant libraries. As with all work, this also serves as an opportunity for the firm to expand its codebase.\n",
    "\n",
    "The stages of this project and corresponding deliverables are as follows:\n",
    "\n",
    "1. Business Understanding: Summary of Business Situation and role of project within it.\n",
    "2. Data Cleaning: Reshaping and combining data while dealing with messy or inconsistent data.\n",
    "3. Data Exploration: Performing some data analysis to better understand the data set in question.\n",
    "4. Modeling: Training models on an iterative basis to acheive highest performance.\n",
    "5. Evaluation: Evaluate model based on success criteria defined earlier."
   ]
  },
  {
   "cell_type": "markdown",
   "metadata": {},
   "source": [
    "## The Data\n",
    "Within the gitlab you will find all the raw data at '../data/raw/'. The folder also contains 'test_' data, which will be used at the end of this program for model evaluation, and a 'sample_submission.csv' file, which will also be relevant during the evaluation process. \n",
    "\n",
    "A codebook and further information on the data can be found under '../references/'. Be sure to read this carefully to ensure you understand your data.\n",
    "\n",
    "Since most data ASR works with is sensitive and requires security clearance, you will instead be working with public data from Kaggle. This data set has been chosen from a finished Kaggle competition to as closely mirror the type of data that ASR works with as possible. We have chosen a Kaggle competition set so that your models can be compared with those of past competetors and give you a concrete benchmark of how well your model performs. "
   ]
  },
  {
   "cell_type": "markdown",
   "metadata": {},
   "source": [
    "## Training Notebooks\n",
    "\n",
    "As mentioned above, this training program is organized into 5 different Jupyter notebooks. These notebooks are designed to be **guidelines** to walk you through the process of understanding, preparing, and modeling data. They can provide hints and tips if you are uncertain of the steps usually associated with each process. If you are more familiar with machine learning, you may find the outlined steps to be too restrictive and wish to step outside the scope of the notebooks. This is absolutely fine and definitely encouraged! If you feel that a step in a notebook will fit better later on, or if you wish to jump ahead and do something that isn't mentioned until much later because you are comforable with your process, feel free to do so."
   ]
  },
  {
   "cell_type": "markdown",
   "metadata": {},
   "source": [
    "### Information Review and Content Crash Courses\n",
    "\n",
    "Before beginning each notebook, your lead will organize a \"crash course\" on the notebook content. In some cases, this may be very simple and include only a few quick notes. In other cases, these may be mini lectures, which cover the basics of data cleaning, exploration, or modeling. Depending on your level of machine learning understanding, these may be key introductions or simple reviews of the material to you. Either way, we hope it will be helpful!"
   ]
  },
  {
   "cell_type": "markdown",
   "metadata": {},
   "source": [
    "### Checkpoints\n",
    "\n",
    "Upon completing each checkpoint (notebook), you will push your notebook and any associated deliverables to Gitlab. Your lead will organize a review session in person or over Teams. During these sessions, each trainee will walk through their code and explain the steps they have taken, so be prepared to explain everything you have done."
   ]
  },
  {
   "cell_type": "markdown",
   "metadata": {},
   "source": [
    "### Functions\n",
    "\n",
    "You may notice that some notebooks load custom functions from the '../src/' folder. These are a compilation of functions that have been written by other ASR employees to the make machine learning and model training processes easier. As you write your own code, we encourage you to functionalize any pieces that you think would be useful for other people (or for yourself) in the future. If you are not familiar with defining functions, this is a great place to practice it!\n",
    "\n",
    "Between checkpoints, you will have the opportunity to add to the ASR code base for each notebook. If you have a function that you think would be useful for data preparation, edit '../src/data_preparation.py' and add your function to the bottom. Then push the file to Gitlab. \n",
    "\n",
    "Since multiple people will be working on these functions simultaneously, you may encounter a merge conflict. This is all part of the process and is great practice for your future at ASR. If you're unfamiliar with the term, read more about merge conflicts [here](https://www.atlassian.com/git/tutorials/using-branches/merge-conflicts)."
   ]
  },
  {
   "cell_type": "markdown",
   "metadata": {},
   "source": [
    "## Documentation"
   ]
  },
  {
   "cell_type": "markdown",
   "metadata": {},
   "source": [
    "Documentation is a key step in all of the work that ASR does. Thoroughly commenting code, documenting decisions you made and why, etc., enables others to benefit from and to build on your work and vice versa. This will be important in helping your peers understand your code, and in providing you with notes as you explain your process during each checkpoint."
   ]
  },
  {
   "cell_type": "markdown",
   "metadata": {},
   "source": [
    "## Evaluation\n",
    "\n",
    "At the end of this training program, you will submit your models predictions for the 'test_' data to the Kaggle engine and receive a score. This is largely for your own understanding and to give you something to compare yourself against, rather than for any sort of performance evaluation."
   ]
  }
 ],
 "metadata": {
  "kernelspec": {
   "display_name": "Python 3",
   "language": "python",
   "name": "python3"
  },
  "language_info": {
   "codemirror_mode": {
    "name": "ipython",
    "version": 3
   },
   "file_extension": ".py",
   "mimetype": "text/x-python",
   "name": "python",
   "nbconvert_exporter": "python",
   "pygments_lexer": "ipython3",
   "version": "3.6.5"
  }
 },
 "nbformat": 4,
 "nbformat_minor": 4
}
