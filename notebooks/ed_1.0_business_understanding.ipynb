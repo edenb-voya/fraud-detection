{
 "cells": [
  {
   "cell_type": "markdown",
   "metadata": {},
   "source": [
    "# Business Understanding\n",
    "During this stage, you should take some time to understand the questions presented by the data from a busines perspective. Many of these are very general questions and they may not be as important or applicable as some other stages of this project for training purposes, but it's good practice to begin any project with a general understanding of what problems you are trying to solve.\n",
    "\n",
    "Consider the following questions and answer to the best of your ability, based on the data and project documentation."
   ]
  },
  {
   "cell_type": "markdown",
   "metadata": {},
   "source": [
    "#### What are the specific business objectives of this project? Define as precisely as possible."
   ]
  },
  {
   "cell_type": "markdown",
   "metadata": {},
   "source": [
    "- Improve the efficacy of fraudulent credit card transaction alerts, by creating a machine learning model that accurately predicts the probability that a given transaction is fraudulent, measured using area under the ROC curve."
   ]
  },
  {
   "cell_type": "markdown",
   "metadata": {},
   "source": [
    "#### What data are available to pursue those objectives?"
   ]
  },
  {
   "cell_type": "markdown",
   "metadata": {},
   "source": [
    "- Identity data\n",
    "    - The identity tables contain the following features:\n",
    "        - Network connection information (IP, ISP, Proxy)\n",
    "        - Digital signature (UA, Browser, OS, Version)\n",
    "        - DeviceType (categorical)\n",
    "        - DeviceInfo (categorical)\n",
    "        - id_12 - id_38 (categorical)\n",
    "- Transaction data\n",
    "    - The transaction tables contain the following features:\n",
    "        - TransactionDT: timedelta from a given reference datetime (not an actual timestamp)\n",
    "        - TransactionAMT: transaction payment amount in USD\n",
    "        - ProductCD: product code, the product for each transaction (categorical)\n",
    "        - card1 - card6: payment card information, such as card type, card category, issue bank, country, etc. (categorical)\n",
    "        - addr: address (categorical)\n",
    "        - dist: distance\n",
    "        - P_ emaildomain: purchaser email domain (categorical)\n",
    "        - R__ emaildomain: recipient email domain (categorical)\n",
    "        - C1-C14: counting, such as how many addresses are found to be associated with the payment card, etc. (actual meaning is masked)\n",
    "        - D1-D15: timedelta, such as days between previous transaction, etc.\n",
    "        - M1-M9: match, such as names on card and address, etc. (categorical)\n",
    "        - Vxxx: Vesta engineered rich features, including ranking, counting, and other entity relations\n",
    "- The transaction and identity tables can be joined on TransactionID"
   ]
  },
  {
   "cell_type": "markdown",
   "metadata": {},
   "source": [
    "#### What resources? (programs, libraries, etc.)"
   ]
  },
  {
   "cell_type": "markdown",
   "metadata": {},
   "source": [
    "- VSCode \n",
    "- Gitlab\n",
    "- Anaconda Navigator\n",
    "- Jupyter Notebook\n",
    "- Python3\n",
    "- Pandas\n",
    "- Numpy\n",
    "- Scikit learn\n",
    "- Statsmodels\n",
    "- Matplotlib \n",
    "- Seaborn\n",
    "- Plotly\n",
    "- Keras"
   ]
  },
  {
   "cell_type": "markdown",
   "metadata": {},
   "source": [
    "#### What are the success criteria for each of the project's objectives? Define as precisely as possible."
   ]
  },
  {
   "cell_type": "markdown",
   "metadata": {},
   "source": [
    "- The success criteria of the project's objective is maximizing area under the roc curve\n",
    "- This means that the best model most accurately predicts the probability that each instance (transaction) belongs to the positive class (Close to 1, or 1, for actual positives - fraudulent transactions - and close to 0 or 0 for actual negatives - non-fraudulent transactions) when evaluated against the actual observed target value of each instance across all possible decision thresholds"
   ]
  },
  {
   "cell_type": "markdown",
   "metadata": {},
   "source": [
    "#### Describe the data mining problem type (regression, classification, clustering, etc.)"
   ]
  },
  {
   "cell_type": "markdown",
   "metadata": {},
   "source": [
    "- This project constitues a classification data mining problem as the model should predict the probability that each transaction in the set belongs to the positive or negative class - whether a given transaction is or is not fraud(0 <= isFraud <= 1>)"
   ]
  },
  {
   "cell_type": "markdown",
   "metadata": {},
   "source": [
    "#### What are the specific technical goals for the project?¶"
   ]
  },
  {
   "cell_type": "markdown",
   "metadata": {},
   "source": [
    "- The specific technical goals of this project are as follows:\n",
    "    - Create a binary classification model to predict whether a given transaction is fraudulent\n",
    "    - The submission file should contain two columns, one with all the transaction IDs and the other with the probability that the transaction is fraudulent (between 0 and 1) with the header TransactionID, isFraud\n"
   ]
  },
  {
   "cell_type": "markdown",
   "metadata": {},
   "source": []
  }
 ],
 "metadata": {
  "kernelspec": {
   "display_name": "Python 3",
   "language": "python",
   "name": "python3"
  },
  "language_info": {
   "codemirror_mode": {
    "name": "ipython",
    "version": 3
   },
   "file_extension": ".py",
   "mimetype": "text/x-python",
   "name": "python",
   "nbconvert_exporter": "python",
   "pygments_lexer": "ipython3",
   "version": "3.12.7"
  }
 },
 "nbformat": 4,
 "nbformat_minor": 4
}
