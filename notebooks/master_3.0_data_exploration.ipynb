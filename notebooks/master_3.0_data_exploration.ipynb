{
 "cells": [
  {
   "cell_type": "markdown",
   "metadata": {},
   "source": [
    "# Data Exploration\n"
   ]
  },
  {
   "cell_type": "markdown",
   "metadata": {},
   "source": [
    "### Imports"
   ]
  },
  {
   "cell_type": "code",
   "execution_count": 1,
   "metadata": {},
   "outputs": [],
   "source": [
    "import os\n",
    "import sys"
   ]
  },
  {
   "cell_type": "code",
   "execution_count": 2,
   "metadata": {},
   "outputs": [],
   "source": [
    "src_path = os.path.abspath('../src/')\n",
    "sys.path.append(src_path)\n",
    "\n",
    "from data_exploration import *"
   ]
  },
  {
   "cell_type": "markdown",
   "metadata": {},
   "source": [
    " - plot_correlation_matrix_heat_map(df,label,qty_fields=10)\n",
    " \n",
    " This function takes a dataframe, a variable label (to find correlations against) and a top number of correlations to display. It then prints a seaborn heatmap of the correlations.\n",
    " \n",
    " For example, if you wished to find the top ten variables correlated with the target variable, you would pass the target name as 'label' and receive a heatmap from the function."
   ]
  },
  {
   "cell_type": "markdown",
   "metadata": {},
   "source": [
    "### Data\n",
    "Read in the analytic data set from your data_cleaning notebook."
   ]
  },
  {
   "cell_type": "code",
   "execution_count": null,
   "metadata": {},
   "outputs": [],
   "source": []
  },
  {
   "cell_type": "markdown",
   "metadata": {},
   "source": [
    "### Exploratory Analysis\n",
    "Now that we have the data in the correct shape, do the following for all variables, but pay special attention to the target variable. Note that some datasets may be very large, and conventional data exploration methods may be inconvenient. You might want to utilize plotting inside a for loop (hint: you can use the input() function to pause the loop and wait for you to press enter). Or, you may want to save all plots as images so you can quickly glance over their thumbnails in a folder."
   ]
  },
  {
   "cell_type": "markdown",
   "metadata": {},
   "source": [
    "#### Statistical Description\n",
    "Run the describe() function to create a table of summary stats. Note anything interesting, relevant, etc."
   ]
  },
  {
   "cell_type": "code",
   "execution_count": null,
   "metadata": {},
   "outputs": [],
   "source": []
  },
  {
   "cell_type": "markdown",
   "metadata": {},
   "source": [
    "#### Correlation\n",
    "Make a heatmap to visualize the correlation between pairs of variables and consider the following:\n",
    "- Are a large percentage of variables highly correlated?\n",
    "- If so, how will this affect model training in future steps?\n",
    "- If correlation is a concern, how could you deal with it before training models?"
   ]
  },
  {
   "cell_type": "code",
   "execution_count": null,
   "metadata": {},
   "outputs": [],
   "source": []
  },
  {
   "cell_type": "markdown",
   "metadata": {},
   "source": [
    "#### Variance\n",
    "Look at the variance for each variable and consider the following:\n",
    "- Do any variables have very low variance (and how do you define \"low\")?\n",
    "- Should you keep these variables in the set for model training?"
   ]
  },
  {
   "cell_type": "code",
   "execution_count": null,
   "metadata": {},
   "outputs": [],
   "source": []
  },
  {
   "cell_type": "markdown",
   "metadata": {},
   "source": [
    "#### Outliers\n",
    "##### Boxplot\n",
    "Produce boxplots to visualize outliers for each variable. Take note of the following:\n",
    "- The spread of each variable.\n",
    "- The presence or absence of outliers.\n",
    "- If outliers are present: Are they significant and how could you deal with them before training models?"
   ]
  },
  {
   "cell_type": "code",
   "execution_count": null,
   "metadata": {},
   "outputs": [],
   "source": []
  },
  {
   "cell_type": "markdown",
   "metadata": {},
   "source": [
    "##### Z_scores\n",
    "Consider a statistical test for outliers (if necessary), such as looking at variables Z_scores. Ask yourself:\n",
    "- If the data has a large number of outliers, is the default Z_score function reliable?\n",
    "- What is a \"large\" Z_score for this data?\n",
    "- What, if anything, should you do with the outliers?"
   ]
  },
  {
   "cell_type": "code",
   "execution_count": null,
   "metadata": {},
   "outputs": [],
   "source": []
  },
  {
   "cell_type": "markdown",
   "metadata": {},
   "source": [
    "#### Distributions\n",
    "Plot histograms for each of the variables. \n",
    "- What do the different features' distributions look like? \n",
    "- How is the target variable distributed?\n",
    "- If variables are not normally distributed, how does that affect model training?"
   ]
  },
  {
   "cell_type": "code",
   "execution_count": null,
   "metadata": {},
   "outputs": [],
   "source": []
  },
  {
   "cell_type": "markdown",
   "metadata": {},
   "source": [
    "### Additional Understanding\n",
    "The above exploratory analysis is only a fraction of the possible methods available to inspect your data. It may be the case that over the course of this exploration, you've found other questions about the data you want to answer. Do so here."
   ]
  },
  {
   "cell_type": "code",
   "execution_count": null,
   "metadata": {},
   "outputs": [],
   "source": []
  },
  {
   "cell_type": "markdown",
   "metadata": {},
   "source": [
    "## Outcome\n",
    "At this point you should have a good understanding of the data and some strong ideas for how you want to approach modeling and the sort of issues you expect to face while you do so."
   ]
  }
 ],
 "metadata": {
  "kernelspec": {
   "display_name": "Python 3",
   "language": "python",
   "name": "python3"
  },
  "language_info": {
   "codemirror_mode": {
    "name": "ipython",
    "version": 3
   },
   "file_extension": ".py",
   "mimetype": "text/x-python",
   "name": "python",
   "nbconvert_exporter": "python",
   "pygments_lexer": "ipython3",
   "version": "3.6.5"
  }
 },
 "nbformat": 4,
 "nbformat_minor": 4
}
